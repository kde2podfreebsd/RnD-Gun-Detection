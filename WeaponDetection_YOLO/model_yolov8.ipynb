{
 "cells": [
  {
   "cell_type": "markdown",
   "metadata": {},
   "source": [
    "## Импорт библиотек\n",
    "\n",
    "---"
   ]
  },
  {
   "cell_type": "code",
   "execution_count": null,
   "metadata": {},
   "outputs": [],
   "source": [
    "import os\n",
    "from pathlib import Path\n",
    "import warnings\n",
    "warnings.filterwarnings(\"ignore\")\n",
    "\n",
    "import cv2\n",
    "\n",
    "from ultralytics import YOLO"
   ]
  },
  {
   "cell_type": "markdown",
   "metadata": {},
   "source": [
    "## Обучение модели\n",
    "\n",
    "---"
   ]
  },
  {
   "cell_type": "markdown",
   "metadata": {},
   "source": [
    "### Загрузка предобученной модели\n",
    "\n",
    "---\n",
    "\n",
    "[Модели доступные для transfer learning](https://docs.ultralytics.com/models/)"
   ]
  },
  {
   "cell_type": "code",
   "execution_count": null,
   "metadata": {},
   "outputs": [],
   "source": [
    "model = YOLO('yolov8n.pt')"
   ]
  },
  {
   "cell_type": "markdown",
   "metadata": {},
   "source": [
    "### Обучение модели\n",
    "\n",
    "---\n",
    "\n",
    "Настраиваемые параметры (engine/trainer) для обучения модели:\n",
    "- task=detect, \n",
    "- mode=train,\n",
    "- model=yolov8n.pt, \n",
    "- data=coco.yaml, \n",
    "- epochs=30, \n",
    "- time=None, \n",
    "- patience=100, \n",
    "- batch=16, \n",
    "- imgsz=640, \n",
    "- save=True, \n",
    "- save_period=-1, \n",
    "- cache=False, \n",
    "- device=None, \n",
    "- workers=8, \n",
    "- project=None, \n",
    "- name=train6, \n",
    "- exist_ok=False, \n",
    "- pretrained=True, \n",
    "- optimizer=auto, \n",
    "- verbose=True, \n",
    "- seed=0, \n",
    "- deterministic=True, \n",
    "- single_cls=False, \n",
    "- rect=False, \n",
    "- cos_lr=False, \n",
    "- close_mosaic=10, \n",
    "- resume=False, \n",
    "- amp=True, \n",
    "- fraction=1.0, \n",
    "- profile=False, \n",
    "- freeze=None, \n",
    "- multi_scale=False, \n",
    "- overlap_mask=True, \n",
    "- mask_ratio=4, \n",
    "- dropout=0.0, \n",
    "- val=True, \n",
    "- split=val, \n",
    "- save_json=False, \n",
    "- save_hybrid=False, \n",
    "- conf=None, \n",
    "- iou=0.7, \n",
    "- max_det=300, \n",
    "- half=False, \n",
    "- dnn=False, \n",
    "- plots=True, \n",
    "- source=None, \n",
    "- vid_stride=1, \n",
    "- stream_buffer=False, \n",
    "- visualize=False, \n",
    "- augment=False, \n",
    "- agnostic_nms=False, \n",
    "- classes=None, \n",
    "- retina_masks=False, \n",
    "- embed=None, \n",
    "- show=False, \n",
    "- save_frames=False, \n",
    "- save_txt=False, \n",
    "- save_conf=False, \n",
    "- save_crop=False, \n",
    "- show_labels=True, \n",
    "- show_conf=True, \n",
    "- show_boxes=True, \n",
    "- line_width=None, \n",
    "- format=torchscript, \n",
    "- keras=False, \n",
    "- optimize=False, \n",
    "- int8=False, \n",
    "- dynamic=False, \n",
    "- simplify=False, \n",
    "- opset=None, \n",
    "- workspace=4, \n",
    "- nms=False, \n",
    "- lr0=0.01, \n",
    "- lrf=0.01, \n",
    "- momentum=0.937, \n",
    "- weight_decay=0.0005, \n",
    "- warmup_epochs=3.0, \n",
    "- warmup_momentum=0.8, \n",
    "- warmup_bias_lr=0.1, \n",
    "- box=7.5, \n",
    "- cls=0.5, \n",
    "- dfl=1.5, \n",
    "- pose=12.0, \n",
    "- kobj=1.0, \n",
    "- label_smoothing=0.0, \n",
    "- nbs=64, \n",
    "- hsv_h=0.015, \n",
    "- hsv_s=0.7, \n",
    "- hsv_v=0.4, \n",
    "- degrees=0.0, \n",
    "- translate=0.1, \n",
    "- scale=0.5, \n",
    "- shear=0.0, \n",
    "- perspective=0.0, \n",
    "- flipud=0.0, \n",
    "- fliplr=0.5, \n",
    "- bgr=0.0, \n",
    "- mosaic=1.0, \n",
    "- mixup=0.0, \n",
    "- copy_paste=0.0, \n",
    "- auto_augment=randaugment, \n",
    "- erasing=0.4, \n",
    "- crop_fraction=1.0, \n",
    "- cfg=None, \n",
    "- tracker=botsort.yaml, \n",
    "- save_dir=runs/detect/train6"
   ]
  },
  {
   "cell_type": "code",
   "execution_count": null,
   "metadata": {},
   "outputs": [],
   "source": [
    "results = model.train(\n",
    "    data='data/data.yaml',\n",
    "\n",
    "    imgsz=640,\n",
    "\n",
    "    epochs=300, \n",
    "    batch=16, \n",
    "    workers=0,\n",
    "    seed=42,\n",
    "    optimize=True,\n",
    "    single_cls=True,\n",
    "    dropout=0.2,\n",
    "    visualize=True,\n",
    "    augment=True,\n",
    "    iou=0.92,\n",
    "    lr0=0.0025, # 0.001\n",
    "    verbose=True,\n",
    "    mask_ratio=14,\n",
    "    optimizer='Adam', \n",
    "    # device='mps',\n",
    "\n",
    "\n",
    "    # После обучения модель сохранится в папку 'runs/train/train', \n",
    "    # которую нужно в дальнейшем указывать в качестве параметра ниже\n",
    "\n",
    "    # name='train17',\n",
    "    # exist_ok=True\n",
    ")"
   ]
  },
  {
   "cell_type": "code",
   "execution_count": null,
   "metadata": {},
   "outputs": [],
   "source": [
    "model.save('yolov8n_30_epoch.pt')"
   ]
  },
  {
   "cell_type": "markdown",
   "metadata": {},
   "source": [
    "## Оценка модели\n",
    "\n",
    "---"
   ]
  },
  {
   "cell_type": "markdown",
   "metadata": {},
   "source": [
    "### Загрузка модели\n",
    "\n",
    "---\n"
   ]
  },
  {
   "cell_type": "code",
   "execution_count": null,
   "metadata": {},
   "outputs": [],
   "source": [
    "model = YOLO('/Users/mac/dev/gov/Real-Time-Guns-Detection/runs/detect/train17/weights/last.pt')"
   ]
  },
  {
   "cell_type": "markdown",
   "metadata": {},
   "source": [
    "### Проверка на изображениях\n",
    "\n",
    "---\n"
   ]
  },
  {
   "cell_type": "code",
   "execution_count": null,
   "metadata": {},
   "outputs": [],
   "source": [
    "res = model.predict(\n",
    "    Path(os.path.join('./data', 'test', 'images'))\n",
    ")"
   ]
  },
  {
   "cell_type": "markdown",
   "metadata": {},
   "source": [
    "**Легко:**"
   ]
  },
  {
   "cell_type": "code",
   "execution_count": null,
   "metadata": {},
   "outputs": [],
   "source": [
    "for idx in [10, 13, 14, 20]:\n",
    "    res[idx].show()"
   ]
  },
  {
   "cell_type": "markdown",
   "metadata": {},
   "source": [
    "**Сложно:**"
   ]
  },
  {
   "cell_type": "code",
   "execution_count": null,
   "metadata": {},
   "outputs": [],
   "source": [
    "for idx in [90, 330, 550, 555]:\n",
    "    res[idx].show()"
   ]
  },
  {
   "cell_type": "markdown",
   "metadata": {},
   "source": [
    "**Часть обнаружил, но на идентичном фото не обнаружил:**"
   ]
  },
  {
   "cell_type": "code",
   "execution_count": null,
   "metadata": {},
   "outputs": [],
   "source": [
    "for idx in [200, 210, 230, 420, 453, 455]:\n",
    "    res[idx].show()"
   ]
  },
  {
   "cell_type": "markdown",
   "metadata": {},
   "source": [
    "**Запомнил место:**"
   ]
  },
  {
   "cell_type": "code",
   "execution_count": null,
   "metadata": {},
   "outputs": [],
   "source": [
    "for idx in [557, 558]:\n",
    "    res[idx].show()"
   ]
  },
  {
   "cell_type": "markdown",
   "metadata": {},
   "source": [
    "#### Проверка на одном изображении\n",
    "\n",
    "---"
   ]
  },
  {
   "cell_type": "code",
   "execution_count": null,
   "metadata": {},
   "outputs": [],
   "source": [
    "res_1 = model.predict('/Users/mac/Downloads/2024-04-24 21.23.52.jpg')\n",
    "res_1[0].show()"
   ]
  },
  {
   "cell_type": "markdown",
   "metadata": {},
   "source": [
    "### Проверка на видео\n",
    "\n",
    "---"
   ]
  },
  {
   "cell_type": "code",
   "execution_count": null,
   "metadata": {},
   "outputs": [],
   "source": [
    "video_path = \"/Volumes/NO NAME/VIDEO/output100.avi\"\n",
    "\n",
    "cap = cv2.VideoCapture(video_path)\n",
    "frame_number = 0\n",
    "\n",
    "os.makedirs(\"images\", exist_ok=True)\n",
    "os.makedirs(\"labels\", exist_ok=True)\n",
    "\n",
    "\n",
    "while cap.isOpened():\n",
    "    success, frame = cap.read()\n",
    "\n",
    "    if success:\n",
    "        results = model.track(frame, persist=True)\n",
    "        annotated_frame = results[0].plot()\n",
    "        cv2.imshow(\"YOLOv8 Tracking\", annotated_frame)\n",
    "\n",
    "        if cv2.waitKey(1) & 0xFF == ord(\"q\"):\n",
    "            break\n",
    "    \n",
    "    else:\n",
    "        break\n",
    "\n",
    "cap.release()\n",
    "cv2.destroyAllWindows()"
   ]
  }
 ],
 "metadata": {
  "kernelspec": {
   "display_name": "cv_yolo",
   "language": "python",
   "name": "python3"
  },
  "language_info": {
   "name": "python",
   "version": "3.11.7"
  }
 },
 "nbformat": 4,
 "nbformat_minor": 2
}
