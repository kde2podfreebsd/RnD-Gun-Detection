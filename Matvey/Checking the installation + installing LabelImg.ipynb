{
 "cells": [
  {
   "cell_type": "markdown",
   "id": "40edabf2",
   "metadata": {},
   "source": [
    "# Импорт нужных библиотек"
   ]
  },
  {
   "cell_type": "code",
   "execution_count": 1,
   "id": "00d9e69d",
   "metadata": {},
   "outputs": [],
   "source": [
    "# Import uuid\n",
    "import uuid\n",
    "\n",
    "# Import Operating System\n",
    "import os\n",
    "\n",
    "# Import time\n",
    "import time\n",
    "\n",
    "#Import tensorflow\n",
    "import tensorflow as tf"
   ]
  },
  {
   "cell_type": "markdown",
   "id": "dbcc11ea",
   "metadata": {},
   "source": [
    "# Проверка корректной установки Tensorflow "
   ]
  },
  {
   "cell_type": "markdown",
   "id": "9da606d6",
   "metadata": {},
   "source": [
    "Для видеокарты: "
   ]
  },
  {
   "cell_type": "code",
   "execution_count": 2,
   "id": "331e3986",
   "metadata": {
    "scrolled": true
   },
   "outputs": [
    {
     "data": {
      "text/plain": [
       "[PhysicalDevice(name='/physical_device:GPU:0', device_type='GPU')]"
      ]
     },
     "execution_count": 2,
     "metadata": {},
     "output_type": "execute_result"
    }
   ],
   "source": [
    "tf.config.list_physical_devices('GPU')\n",
    "#Out: [PhysicalDevice(name='/physical_device:GPU:0', device_type='GPU')]"
   ]
  },
  {
   "cell_type": "markdown",
   "id": "819fc8fc",
   "metadata": {},
   "source": [
    "Или"
   ]
  },
  {
   "cell_type": "code",
   "execution_count": 3,
   "id": "1e719f61",
   "metadata": {},
   "outputs": [
    {
     "name": "stdout",
     "output_type": "stream",
     "text": [
      "WARNING:tensorflow:From C:\\Users\\Matvey\\AppData\\Local\\Temp\\ipykernel_18104\\1728556668.py:2: is_gpu_available (from tensorflow.python.framework.test_util) is deprecated and will be removed in a future version.\n",
      "Instructions for updating:\n",
      "Use `tf.config.list_physical_devices('GPU')` instead.\n"
     ]
    },
    {
     "data": {
      "text/plain": [
       "('tf version:',\n",
       " <module 'tensorflow._api.v2.version' from 'C:\\\\Users\\\\Matvey\\\\anaconda3\\\\envs\\\\tfod\\\\lib\\\\site-packages\\\\tensorflow\\\\_api\\\\v2\\\\version\\\\__init__.py'>,\n",
       " '\\nuse GPU',\n",
       " True)"
      ]
     },
     "execution_count": 3,
     "metadata": {},
     "output_type": "execute_result"
    }
   ],
   "source": [
    "version = tf.version\n",
    "gpu_ok = tf.test.is_gpu_available()\n",
    "\"tf version:\", version, \"\\nuse GPU\", gpu_ok\n",
    "#В конце должно быть True "
   ]
  },
  {
   "cell_type": "markdown",
   "id": "af90c496",
   "metadata": {},
   "source": [
    "Для ЦП:"
   ]
  },
  {
   "cell_type": "code",
   "execution_count": 12,
   "id": "3a31fa74",
   "metadata": {},
   "outputs": [
    {
     "data": {
      "text/plain": [
       "<tf.Tensor: shape=(), dtype=float32, numpy=-731.11237>"
      ]
     },
     "execution_count": 12,
     "metadata": {},
     "output_type": "execute_result"
    }
   ],
   "source": [
    "tf.reduce_sum(tf.random.normal([1000, 1000]))\n",
    "#Должно вернуться тело tf.Tensor"
   ]
  },
  {
   "cell_type": "markdown",
   "id": "61f90c48",
   "metadata": {},
   "source": [
    "# Установка Labelimg (пройтись по строкам)"
   ]
  },
  {
   "cell_type": "code",
   "execution_count": 13,
   "id": "6f2cf1c8",
   "metadata": {},
   "outputs": [
    {
     "name": "stdout",
     "output_type": "stream",
     "text": [
      "Requirement already satisfied: pyqt5 in c:\\users\\matvey\\anaconda3\\envs\\tfod\\lib\\site-packages (5.15.9)\n",
      "Requirement already satisfied: lxml in c:\\users\\matvey\\anaconda3\\envs\\tfod\\lib\\site-packages (4.9.3)\n",
      "Requirement already satisfied: PyQt5-sip<13,>=12.11 in c:\\users\\matvey\\anaconda3\\envs\\tfod\\lib\\site-packages (from pyqt5) (12.12.2)\n",
      "Requirement already satisfied: PyQt5-Qt5>=5.15.2 in c:\\users\\matvey\\anaconda3\\envs\\tfod\\lib\\site-packages (from pyqt5) (5.15.2)\n"
     ]
    }
   ],
   "source": [
    "!pip install --upgrade pyqt5 lxml"
   ]
  },
  {
   "cell_type": "code",
   "execution_count": 16,
   "id": "1699bfd4",
   "metadata": {},
   "outputs": [],
   "source": [
    "LABELIMG_PATH = os.path.join('Tensorflow', 'labelimg')"
   ]
  },
  {
   "cell_type": "code",
   "execution_count": 15,
   "id": "be1d5173",
   "metadata": {},
   "outputs": [
    {
     "ename": "NameError",
     "evalue": "name 'LABELIMG_PATH' is not defined",
     "output_type": "error",
     "traceback": [
      "\u001b[1;31m---------------------------------------------------------------------------\u001b[0m",
      "\u001b[1;31mNameError\u001b[0m                                 Traceback (most recent call last)",
      "Cell \u001b[1;32mIn[15], line 1\u001b[0m\n\u001b[1;32m----> 1\u001b[0m \u001b[38;5;28;01mif\u001b[39;00m \u001b[38;5;129;01mnot\u001b[39;00m os\u001b[38;5;241m.\u001b[39mpath\u001b[38;5;241m.\u001b[39mexists(\u001b[43mLABELIMG_PATH\u001b[49m):\n\u001b[0;32m      2\u001b[0m     get_ipython()\u001b[38;5;241m.\u001b[39msystem(\u001b[38;5;124m'\u001b[39m\u001b[38;5;124mmkdir \u001b[39m\u001b[38;5;132;01m{LABELIMG_PATH}\u001b[39;00m\u001b[38;5;124m'\u001b[39m)\n\u001b[0;32m      3\u001b[0m     get_ipython()\u001b[38;5;241m.\u001b[39msystem(\u001b[38;5;124m'\u001b[39m\u001b[38;5;124mgit clone https://github.com/tzutalin/labelImg \u001b[39m\u001b[38;5;132;01m{LABELIMG_PATH}\u001b[39;00m\u001b[38;5;124m'\u001b[39m)\n",
      "\u001b[1;31mNameError\u001b[0m: name 'LABELIMG_PATH' is not defined"
     ]
    }
   ],
   "source": [
    "if not os.path.exists(LABELIMG_PATH):\n",
    "    !mkdir {LABELIMG_PATH}\n",
    "    !git clone https://github.com/tzutalin/labelImg {LABELIMG_PATH}"
   ]
  },
  {
   "cell_type": "code",
   "execution_count": 14,
   "id": "a6de972e",
   "metadata": {},
   "outputs": [],
   "source": [
    "if os.name == 'posix':\n",
    "    !make qt5py3\n",
    "if os.name =='nt':\n",
    "    !cd {LABELIMG_PATH} && pyrcc5 -o libs/resources.py resources.qrc"
   ]
  },
  {
   "cell_type": "markdown",
   "id": "ff16aa85",
   "metadata": {},
   "source": [
    "Запуск LamelImg"
   ]
  },
  {
   "cell_type": "code",
   "execution_count": 1,
   "id": "6393ac4f",
   "metadata": {},
   "outputs": [
    {
     "name": "stdout",
     "output_type": "stream",
     "text": [
      "Image:C:\\Users\\Matvey\\Проект ФСО\\dataset\\train\\images\\0028_jpg.rf.1f3528bbd760f01b20670c8e77a9fad4.jpg -> Annotation:C:/Users/Matvey/Проект ФСО/dataset/train/test\\0028_jpg.rf.1f3528bbd760f01b20670c8e77a9fad4.txt\n",
      "Image:C:\\Users\\Matvey\\Проект ФСО\\dataset\\train\\images\\0028_jpg.rf.1f3528bbd760f01b20670c8e77a9fad4.jpg -> Annotation:C:/Users/Matvey/Проект ФСО/dataset/train/test\\0028_jpg.rf.1f3528bbd760f01b20670c8e77a9fad4.txt\n",
      "Image:C:\\Users\\Matvey\\Проект ФСО\\dataset\\train\\images\\0028_jpg.rf.1f3528bbd760f01b20670c8e77a9fad4.jpg -> Annotation:C:/Users/Matvey/Проект ФСО/dataset/train/test\\0028_jpg.rf.1f3528bbd760f01b20670c8e77a9fad4.txt\n",
      "Image:C:\\Users\\Matvey\\Проект ФСО\\dataset\\train\\images\\0028_jpg.rf.1f3528bbd760f01b20670c8e77a9fad4.jpg -> Annotation:C:/Users/Matvey/Проект ФСО/dataset/train/test\\0028_jpg.rf.1f3528bbd760f01b20670c8e77a9fad4.txt\n"
     ]
    },
    {
     "name": "stderr",
     "output_type": "stream",
     "text": [
      "C:\\Users\\Matvey\\Проект ФСО\\Tensorflow\\labelimg\\labelImg.py:213: DeprecationWarning: an integer is required (got type DockWidgetFeatures).  Implicit conversion to integers using __int__ is deprecated, and may be removed in a future version of Python.\n",
      "  self.dock.setFeatures(self.dock.features() ^ self.dock_features)\n"
     ]
    }
   ],
   "source": [
    "import os\n",
    "LABELIMG_PATH = os.path.join('Tensorflow', 'labelimg')\n",
    "!cd {LABELIMG_PATH} && python labelImg.py"
   ]
  },
  {
   "cell_type": "code",
   "execution_count": null,
   "id": "f4a56588",
   "metadata": {},
   "outputs": [],
   "source": []
  }
 ],
 "metadata": {
  "kernelspec": {
   "display_name": "Python 3 (ipykernel)",
   "language": "python",
   "name": "python3"
  },
  "language_info": {
   "codemirror_mode": {
    "name": "ipython",
    "version": 3
   },
   "file_extension": ".py",
   "mimetype": "text/x-python",
   "name": "python",
   "nbconvert_exporter": "python",
   "pygments_lexer": "ipython3",
   "version": "3.9.18"
  }
 },
 "nbformat": 4,
 "nbformat_minor": 5
}
